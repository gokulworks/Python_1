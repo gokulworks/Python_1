{
  "nbformat": 4,
  "nbformat_minor": 0,
  "metadata": {
    "colab": {
      "provenance": [],
      "authorship_tag": "ABX9TyNYqkgzLmCVEmFIUFB6vyc0",
      "include_colab_link": true
    },
    "kernelspec": {
      "name": "python3",
      "display_name": "Python 3"
    },
    "language_info": {
      "name": "python"
    }
  },
  "cells": [
    {
      "cell_type": "markdown",
      "metadata": {
        "id": "view-in-github",
        "colab_type": "text"
      },
      "source": [
        "<a href=\"https://colab.research.google.com/github/gokulworks/Python_1/blob/main/Python_Day_2.ipynb\" target=\"_parent\"><img src=\"https://colab.research.google.com/assets/colab-badge.svg\" alt=\"Open In Colab\"/></a>"
      ]
    },
    {
      "cell_type": "markdown",
      "source": [
        "1.Write a program to calculate Employee’s bonus calculation for the details given below\n",
        "[Experience: Bonus (%)]\n",
        "\n",
        "[More than 8 years: 10 %]\n",
        "\n",
        "[More than 4 years: 7%]\n",
        "\n",
        "[More than 2 years: 4%]"
      ],
      "metadata": {
        "id": "HqU4p1CwnG1c"
      }
    },
    {
      "cell_type": "code",
      "source": [
        "experience = int(input(\"Enter the experience: \"))\n",
        "salary = float(input(\"Enter the salary: \"))\n",
        "if experience < 0 or salary < 0:\n",
        "    print(\"Experience and salary cannot be negative.\")\n",
        "else:\n",
        "    if experience > 8:\n",
        "        bonus_percentage = 10\n",
        "    elif experience > 4:\n",
        "        bonus_percentage = 7\n",
        "    elif experience > 2:\n",
        "        bonus_percentage = 4\n",
        "    else:\n",
        "        bonus_percentage = 0\n",
        "    bonus_amount = (bonus_percentage / 100) * salary\n",
        "    total_salary = salary + bonus_amount\n",
        "    print(\"Years of Experience:\", experience)\n",
        "    print(\"Original Salary:\", salary)\n",
        "    print(\"Bonus Percentage:\", bonus_percentage, \"%\")\n",
        "    print(\"Bonus Amount: {:.2f}\".format(bonus_amount))\n",
        "    print(\"Total Salary:\", total_salary)"
      ],
      "metadata": {
        "colab": {
          "base_uri": "https://localhost:8080/"
        },
        "id": "L8luS-1LnLlu",
        "outputId": "087c2358-0137-48e4-f4bf-ed5561317d7e"
      },
      "execution_count": null,
      "outputs": [
        {
          "output_type": "stream",
          "name": "stdout",
          "text": [
            "Enter the experience: 8\n",
            "Enter the salary: 100000\n",
            "Years of Experience: 8\n",
            "Original Salary: 100000.0\n",
            "Bonus Percentage: 7 %\n",
            "Bonus Amount: 7000.00\n",
            "Total Salary: 107000.0\n"
          ]
        }
      ]
    },
    {
      "cell_type": "markdown",
      "source": [
        "2.Write a program to calculate the electricity bill (accept number of units from user) according to the following criteria:\n",
        "[Units: Price]\n",
        "\n",
        "[First 100 units: No charge]\n",
        "\n",
        "[Next 100 units: Rs.5 per unit]\n",
        "\n",
        "[After 200 units: Rs.10 per unit]"
      ],
      "metadata": {
        "id": "gTQpzXPmnkXc"
      }
    },
    {
      "cell_type": "code",
      "source": [
        "units = float(input(\"Enter the units: \"))\n",
        "if units < 0:\n",
        "    print(\"Units cannot be negative.\")\n",
        "else:\n",
        "    if units <= 100:\n",
        "        bill_amount = 0\n",
        "    elif units <= 200:\n",
        "        bill_amount = (units - 100) * 5\n",
        "    else:\n",
        "        bill_amount = 500 + (units - 200) * 10\n",
        "    print(\"Units consumed:\", units, \"units\")\n",
        "    print(\"Electricity bill amount:\", bill_amount, \"Rupees\")"
      ],
      "metadata": {
        "colab": {
          "base_uri": "https://localhost:8080/"
        },
        "id": "RY3iV-6qnr66",
        "outputId": "ad79ca5c-80f2-45e1-8e9e-9a3f877c9616"
      },
      "execution_count": null,
      "outputs": [
        {
          "output_type": "stream",
          "name": "stdout",
          "text": [
            "Enter the units: 250\n",
            "Units consumed: 250.0 units\n",
            "Electricity bill amount: 1000.0 Rupees\n"
          ]
        }
      ]
    },
    {
      "cell_type": "markdown",
      "source": [
        "3.Accept the marked price from the user and calculate the Net amount as (Marked Price - Discount) to pay according to following criteria:\n",
        "[Marked Price: Discount]\n",
        "\n",
        "[>10000: 20%]\n",
        "\n",
        "[>7000 and <=10000: 15%]\n",
        "\n",
        "[<=7000: 10%]"
      ],
      "metadata": {
        "id": "P7BFP4cTnx7t"
      }
    },
    {
      "cell_type": "code",
      "source": [
        "marked_price = float(input(\"Enter the marked price: \"))\n",
        "if marked_price > 10000:\n",
        "    discount_percentage = 20\n",
        "elif marked_price > 7000:\n",
        "    discount_percentage = 15\n",
        "else:\n",
        "    discount_percentage = 10\n",
        "discount = (discount_percentage / 100) * marked_price\n",
        "net_amount = marked_price - discount\n",
        "print(\"Marked Price:\", marked_price)\n",
        "print(\"Discount Percentage:\", discount_percentage, \"%\")\n",
        "print(\"Discount:\", discount)\n",
        "print(\"Net Amount:\", net_amount)"
      ],
      "metadata": {
        "colab": {
          "base_uri": "https://localhost:8080/"
        },
        "id": "G2Mmb89Fn2Iy",
        "outputId": "d1e0fc44-c0ea-4c28-e206-ff4a0e693f76"
      },
      "execution_count": null,
      "outputs": [
        {
          "output_type": "stream",
          "name": "stdout",
          "text": [
            "Enter the marked price: 7500\n",
            "Marked Price: 7500.0\n",
            "Discount Percentage: 15 %\n",
            "Discount: 1125.0\n",
            "Net Amount: 6375.0\n"
          ]
        }
      ]
    }
  ]
}